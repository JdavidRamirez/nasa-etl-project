{
  "nbformat": 4,
  "nbformat_minor": 0,
  "metadata": {
    "colab": {
      "provenance": [],
      "authorship_tag": "ABX9TyNe9rI65H/KMW9mobzCScdX",
      "include_colab_link": true
    },
    "kernelspec": {
      "name": "python3",
      "display_name": "Python 3"
    },
    "language_info": {
      "name": "python"
    }
  },
  "cells": [
    {
      "cell_type": "markdown",
      "metadata": {
        "id": "view-in-github",
        "colab_type": "text"
      },
      "source": [
        "<a href=\"https://colab.research.google.com/github/JdavidRamirez/nasa-etl-project/blob/main/colab_notebooks/nasa_data_extraction.ipynb\" target=\"_parent\"><img src=\"https://colab.research.google.com/assets/colab-badge.svg\" alt=\"Open In Colab\"/></a>"
      ]
    },
    {
      "cell_type": "code",
      "execution_count": 1,
      "metadata": {
        "id": "lVNe7hdfQak-"
      },
      "outputs": [],
      "source": [
        "#Main libraries to fletch data from the NASA API\n",
        "import requests\n",
        "import pandas as pd\n",
        "import json\n",
        "from datetime import date, timedelta"
      ]
    },
    {
      "cell_type": "code",
      "source": [
        "# Replace with your API key\n",
        "API_KEY = \"6socNC5nPTWKsGuhC0L0j48ejJFtCxAnFMCl0Ofj\"  # or your real key\n",
        "BASE_URL = \"https://api.nasa.gov/neo/rest/v1/feed\"\n",
        "\n",
        "\n",
        "# Set your date range (max 7 days per request)\n",
        "start_date = date.today() - timedelta(days=3)\n",
        "end_date = date.today()\n",
        "\n",
        "params = {\n",
        "    \"start_date\": start_date.isoformat(),\n",
        "    \"end_date\": end_date.isoformat(),\n",
        "    \"api_key\": API_KEY\n",
        "}\n",
        "\n",
        "# Make the request\n",
        "response = requests.get(BASE_URL, params=params)\n",
        "\n",
        "# Check status\n",
        "if response.status_code == 200:\n",
        "    data = response.json()\n",
        "    print(\" Data retrieved successfully!\")\n",
        "else:\n",
        "    print(\" Failed to fetch data:\", response.status_code)\n",
        "\n",
        "# Save raw data to file\n",
        "with open(\"nasa_raw_data.json\", \"w\") as f:\n",
        "    json.dump(data, f)\n",
        "\n",
        "# Preview top-level keys\n",
        "print(\"\\nTop-level keys:\", data.keys())\n",
        "\n"
      ],
      "metadata": {
        "colab": {
          "base_uri": "https://localhost:8080/"
        },
        "id": "CFeMr_UsS831",
        "outputId": "5070dffe-449a-479e-bca9-e9d373b6e4cb"
      },
      "execution_count": 2,
      "outputs": [
        {
          "output_type": "stream",
          "name": "stdout",
          "text": [
            " Data retrieved successfully!\n",
            "\n",
            "Top-level keys: dict_keys(['links', 'element_count', 'near_earth_objects'])\n"
          ]
        }
      ]
    }
  ]
}